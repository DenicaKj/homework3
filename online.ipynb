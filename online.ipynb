{
 "cells": [
  {
   "cell_type": "code",
   "execution_count": 1,
   "id": "initial_id",
   "metadata": {
    "collapsed": true,
    "ExecuteTime": {
     "end_time": "2024-02-06T01:21:13.683684800Z",
     "start_time": "2024-02-06T01:21:13.603965800Z"
    }
   },
   "outputs": [],
   "source": [
    "import findspark\n",
    "findspark.init()"
   ]
  },
  {
   "cell_type": "code",
   "outputs": [],
   "source": [
    "import os\n",
    "import sys\n",
    "\n",
    "os.environ['PYSPARK_PYTHON'] = sys.executable\n",
    "os.environ['PYSPARK_DRIVER_PYTHON'] = sys.executable\n",
    "os.environ['PYSPARK_SUBMIT_ARGS'] = '--packages org.apache.spark:spark-sql-kafka-0-10_2.12:3.5.0 pyspark-shell'"
   ],
   "metadata": {
    "collapsed": false,
    "ExecuteTime": {
     "end_time": "2024-02-06T01:21:13.702854400Z",
     "start_time": "2024-02-06T01:21:13.631187300Z"
    }
   },
   "id": "169725bc094c1b41",
   "execution_count": 2
  },
  {
   "cell_type": "code",
   "outputs": [],
   "source": [
    "from pyspark.sql import SparkSession\n",
    "from pyspark.ml import PipelineModel\n",
    "from pyspark.ml.feature import VectorAssembler\n",
    "from pyspark.sql.functions import from_json, col\n",
    "from pyspark.sql.types import StructType, StructField, DoubleType, StringType\n",
    "from pyspark.sql.functions import udf\n",
    "import json\n",
    "\n",
    "spark = SparkSession.builder.appName(\"HealthDataStreaming\").getOrCreate()"
   ],
   "metadata": {
    "collapsed": false,
    "ExecuteTime": {
     "end_time": "2024-02-06T01:21:28.567959200Z",
     "start_time": "2024-02-06T01:21:13.645848200Z"
    }
   },
   "id": "c9dd9020b81c9a0",
   "execution_count": 3
  },
  {
   "cell_type": "code",
   "outputs": [],
   "source": [
    "model_path = \"best_model\\\\bestModel\"\n",
    "model = PipelineModel.load(model_path)"
   ],
   "metadata": {
    "collapsed": false,
    "ExecuteTime": {
     "end_time": "2024-02-06T01:28:49.338790400Z",
     "start_time": "2024-02-06T01:28:38.619931700Z"
    }
   },
   "id": "1cc7df2771567580",
   "execution_count": 6
  },
  {
   "cell_type": "code",
   "outputs": [],
   "source": [
    "kafka_schema = StructType([\n",
    "    StructField(\"HighBP\", DoubleType()),\n",
    "    StructField(\"HighChol\", DoubleType()),\n",
    "    StructField(\"CholCheck\", DoubleType()),\n",
    "    StructField(\"BMI\", DoubleType()),\n",
    "    StructField(\"Smoker\", DoubleType()),\n",
    "    StructField(\"Stroke\", DoubleType()),\n",
    "    StructField(\"HeartDiseaseorAttack\", DoubleType()),\n",
    "    StructField(\"PhysActivity\", DoubleType()),\n",
    "    StructField(\"Fruits\", DoubleType()),\n",
    "    StructField(\"Veggies\", DoubleType()),\n",
    "    StructField(\"HvyAlcoholConsump\", DoubleType()),\n",
    "    StructField(\"AnyHealthcare\", DoubleType()),\n",
    "    StructField(\"NoDocbcCost\", DoubleType()),\n",
    "    StructField(\"GenHlth\", DoubleType()),\n",
    "    StructField(\"MentHlth\", DoubleType()),\n",
    "    StructField(\"PhysHlth\", DoubleType()),\n",
    "    StructField(\"DiffWalk\", DoubleType()),\n",
    "    StructField(\"Sex\", DoubleType()),\n",
    "    StructField(\"Age\", DoubleType()),\n",
    "    StructField(\"Education\", DoubleType()),\n",
    "    StructField(\"Income\", DoubleType()),\n",
    "    StructField(\"Diabetes_binary\", DoubleType())\n",
    "])\n"
   ],
   "metadata": {
    "collapsed": false,
    "ExecuteTime": {
     "end_time": "2024-02-06T01:29:05.964075500Z",
     "start_time": "2024-02-06T01:29:05.946791500Z"
    }
   },
   "id": "75b212376b466809",
   "execution_count": 9
  },
  {
   "cell_type": "code",
   "outputs": [],
   "source": [
    "kafka_stream_df = spark \\\n",
    "    .readStream \\\n",
    "    .format(\"kafka\") \\\n",
    "    .option(\"kafka.bootstrap.servers\", \"localhost:29092\") \\\n",
    "    .option(\"subscribe\", \"health_data\") \\\n",
    "    .load() \\\n",
    "    .selectExpr(\"CAST(value AS STRING)\") \\\n",
    "    .select(from_json(\"value\", kafka_schema).alias(\"data\")) \\\n",
    "    .select(\"data.*\")"
   ],
   "metadata": {
    "collapsed": false,
    "ExecuteTime": {
     "end_time": "2024-02-06T01:29:08.939158800Z",
     "start_time": "2024-02-06T01:29:08.767650400Z"
    }
   },
   "id": "1ec2bc3af7c287ed",
   "execution_count": 10
  },
  {
   "cell_type": "code",
   "outputs": [],
   "source": [
    "predictions = model.transform(kafka_stream_df)\n",
    "\n",
    "predictions = predictions.drop(\"features\", \"indexedFeatures\", \"rawPrediction\", \"probability\")"
   ],
   "metadata": {
    "collapsed": false,
    "ExecuteTime": {
     "end_time": "2024-02-06T01:29:12.099967700Z",
     "start_time": "2024-02-06T01:29:11.222650400Z"
    }
   },
   "id": "1dac3c20ade65378",
   "execution_count": 11
  },
  {
   "cell_type": "code",
   "outputs": [],
   "source": [
    "stream_query = predictions \\\n",
    "    .selectExpr(\"CAST(to_json(struct(*)) AS STRING) AS value\") \\\n",
    "    .writeStream \\\n",
    "    .format(\"kafka\") \\\n",
    "    .option(\"kafka.bootstrap.servers\", \"localhost:29092\") \\\n",
    "    .option(\"topic\", \"health_data_predicted\") \\\n",
    "    .outputMode(\"append\") \\\n",
    "    .option(\"checkpointLocation\", \"checkpoints\") \\\n",
    "    .start()"
   ],
   "metadata": {
    "collapsed": false,
    "ExecuteTime": {
     "end_time": "2024-02-06T01:29:49.931614200Z",
     "start_time": "2024-02-06T01:29:49.512712600Z"
    }
   },
   "id": "1614f116e612de36",
   "execution_count": 12
  },
  {
   "cell_type": "code",
   "outputs": [],
   "source": [],
   "metadata": {
    "collapsed": false
   },
   "id": "492c03de1641ae30"
  }
 ],
 "metadata": {
  "kernelspec": {
   "display_name": "Python 3",
   "language": "python",
   "name": "python3"
  },
  "language_info": {
   "codemirror_mode": {
    "name": "ipython",
    "version": 2
   },
   "file_extension": ".py",
   "mimetype": "text/x-python",
   "name": "python",
   "nbconvert_exporter": "python",
   "pygments_lexer": "ipython2",
   "version": "2.7.6"
  }
 },
 "nbformat": 4,
 "nbformat_minor": 5
}
